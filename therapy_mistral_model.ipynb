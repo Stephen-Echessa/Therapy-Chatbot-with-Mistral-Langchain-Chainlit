{
 "cells": [
  {
   "cell_type": "code",
   "execution_count": 1,
   "metadata": {},
   "outputs": [],
   "source": [
    "from langchain_community.llms import Ollama\n",
    "from langchain.vectorstores import Weaviate\n",
    "from langchain.chains.conversational_retrieval.base import ConversationalRetrievalChain\n",
    "from langchain.document_loaders import PyPDFLoader\n",
    "from langchain.docstore.document import Document\n",
    "from langchain.prompts import PromptTemplate\n",
    "from langchain.embeddings import HuggingFaceBgeEmbeddings\n",
    "from langchain.text_splitter import RecursiveCharacterTextSplitter\n",
    "from langchain.memory import ConversationBufferMemory"
   ]
  },
  {
   "cell_type": "code",
   "execution_count": 2,
   "metadata": {},
   "outputs": [],
   "source": [
    "loader = PyPDFLoader('./data/Cognitive Behavioral Therapy Made Simple 10 Strategies for Managing Anxiety, Depression, Anger, Panic, and Worry (Seth J. Gillihan) (Z-Library).pdf')\n",
    "data = loader.load()"
   ]
  },
  {
   "cell_type": "code",
   "execution_count": 3,
   "metadata": {},
   "outputs": [
    {
     "name": "stdout",
     "output_type": "stream",
     "text": [
      "Number of pages: 191\n"
     ]
    }
   ],
   "source": [
    "print(f'Number of pages: {len(data)}')"
   ]
  },
  {
   "cell_type": "code",
   "execution_count": 4,
   "metadata": {},
   "outputs": [],
   "source": [
    "text_gen = ''\n",
    "for page in data:\n",
    "    text_gen += page.page_content\n",
    "text_splitter = RecursiveCharacterTextSplitter(\n",
    "    chunk_size = 1024,\n",
    "    chunk_overlap = 5,\n",
    "    keep_separator=False,\n",
    "    separators='.',\n",
    ")"
   ]
  },
  {
   "cell_type": "code",
   "execution_count": 5,
   "metadata": {},
   "outputs": [
    {
     "name": "stdout",
     "output_type": "stream",
     "text": [
      "Number of chunks: 329\n"
     ]
    }
   ],
   "source": [
    "chunks = text_splitter.split_text(text_gen)\n",
    "print(f'Number of chunks: {len(chunks)}')"
   ]
  },
  {
   "cell_type": "code",
   "execution_count": 8,
   "metadata": {},
   "outputs": [
    {
     "name": "stdout",
     "output_type": "stream",
     "text": [
      "Prescribing doctors will\n",
      "take into account the potential benefits of an SSRI or benzodiazepine\n",
      "versus the common side effects.\n",
      "This book focuses on CBT rather than medication. Check with your\n",
      "primary care doctor or a psychiatrist if you’re interested in a medication\n",
      "consultation.\n",
      "How Can You Help Yourself?\n",
      "For CBT to work best, it’s necessary to zero in on your particular needs.\n",
      "Are you struggling with low mood, an uncontrolled temper, pervasive\n",
      "worry, or something else? Let’s consider how CBT can be used to address\n",
      "different conditions and allow you to help yourself through the particular\n",
      "issues that you are facing.\n",
      "DEPRESSION\n",
      "Thoughts, feelings, and behaviors work together in a downward spiral when\n",
      "we’re depressed. Low mood and poor motivation make it hard to find\n",
      "pleasure even in things we used to enjoy. We see the world and ourselves in\n",
      "a negative light. As our thoughts and mood darken, we’re likely to pull back\n",
      "from many of our activities, further deepening our depression\n"
     ]
    }
   ],
   "source": [
    "print(chunks[30])"
   ]
  },
  {
   "cell_type": "code",
   "execution_count": 10,
   "metadata": {},
   "outputs": [
    {
     "data": {
      "text/plain": [
       "Document(page_content='Prescribing doctors will\\ntake into account the potential benefits of an SSRI or benzodiazepine\\nversus the common side effects.\\nThis book focuses on CBT rather than medication. Check with your\\nprimary care doctor or a psychiatrist if you’re interested in a medication\\nconsultation.\\nHow Can You Help Yourself?\\nFor CBT to work best, it’s necessary to zero in on your particular needs.\\nAre you struggling with low mood, an uncontrolled temper, pervasive\\nworry, or something else? Let’s consider how CBT can be used to address\\ndifferent conditions and allow you to help yourself through the particular\\nissues that you are facing.\\nDEPRESSION\\nThoughts, feelings, and behaviors work together in a downward spiral when\\nwe’re depressed. Low mood and poor motivation make it hard to find\\npleasure even in things we used to enjoy. We see the world and ourselves in\\na negative light. As our thoughts and mood darken, we’re likely to pull back\\nfrom many of our activities, further deepening our depression')"
      ]
     },
     "execution_count": 10,
     "metadata": {},
     "output_type": "execute_result"
    }
   ],
   "source": [
    "document_gen = [Document(page_content=t) for t in chunks]\n",
    "document_gen[30]"
   ]
  },
  {
   "cell_type": "code",
   "execution_count": 39,
   "metadata": {},
   "outputs": [
    {
     "name": "stderr",
     "output_type": "stream",
     "text": [
      "/home/chescore/anaconda3/lib/python3.11/site-packages/transformers/utils/generic.py:441: UserWarning: torch.utils._pytree._register_pytree_node is deprecated. Please use torch.utils._pytree.register_pytree_node instead.\n",
      "  _torch_pytree._register_pytree_node(\n",
      "/home/chescore/anaconda3/lib/python3.11/site-packages/transformers/utils/generic.py:309: UserWarning: torch.utils._pytree._register_pytree_node is deprecated. Please use torch.utils._pytree.register_pytree_node instead.\n",
      "  _torch_pytree._register_pytree_node(\n",
      "/home/chescore/anaconda3/lib/python3.11/site-packages/transformers/utils/generic.py:309: UserWarning: torch.utils._pytree._register_pytree_node is deprecated. Please use torch.utils._pytree.register_pytree_node instead.\n",
      "  _torch_pytree._register_pytree_node(\n"
     ]
    }
   ],
   "source": [
    "embedding_model = HuggingFaceBgeEmbeddings(model_name='BAAI/bge-small-en-v1.5')"
   ]
  },
  {
   "cell_type": "code",
   "execution_count": 41,
   "metadata": {},
   "outputs": [
    {
     "name": "stderr",
     "output_type": "stream",
     "text": [
      "/home/chescore/anaconda3/lib/python3.11/site-packages/weaviate/warnings.py:121: DeprecationWarning: Dep005: You are using weaviate-client version 3.26.2. The latest version is 4.5.1.\n",
      "            Please consider upgrading to the latest version. See https://weaviate.io/developers/weaviate/client-libraries/python for details.\n",
      "  warnings.warn(\n"
     ]
    }
   ],
   "source": [
    "vector_store = Weaviate.from_documents(document_gen, \n",
    "                                    embedding_model, \n",
    "                                    weaviate_url = 'http://localhost:8080'\n",
    ")"
   ]
  },
  {
   "cell_type": "code",
   "execution_count": 42,
   "metadata": {},
   "outputs": [],
   "source": [
    "retriever = vector_store.as_retriever(\n",
    "    search_type='similarity',\n",
    "    search_kwargs={'k': 5}\n",
    ")"
   ]
  },
  {
   "cell_type": "code",
   "execution_count": 43,
   "metadata": {},
   "outputs": [
    {
     "name": "stdout",
     "output_type": "stream",
     "text": [
      "Prescribing doctors will\n",
      "take into account the potential benefits of an SSRI or benzodiazepine\n",
      "versus the common side effects.\n",
      "This book focuses on CBT rather than medication. Check with your\n",
      "primary care doctor or a psychiatrist if you’re interested in a medication\n",
      "consultation.\n",
      "How Can You Help Yourself?\n",
      "For CBT to work best, it’s necessary to zero in on your particular needs.\n",
      "Are you struggling with low mood, an uncontrolled temper, pervasive\n",
      "worry, or something else? Let’s consider how CBT can be used to address\n",
      "different conditions and allow you to help yourself through the particular\n",
      "issues that you are facing.\n",
      "DEPRESSION\n",
      "Thoughts, feelings, and behaviors work together in a downward spiral when\n",
      "we’re depressed. Low mood and poor motivation make it hard to find\n",
      "pleasure even in things we used to enjoy. We see the world and ourselves in\n",
      "a negative light. As our thoughts and mood darken, we’re likely to pull back\n",
      "from many of our activities, further deepening our depression\n"
     ]
    }
   ],
   "source": [
    "query_example = 'How can one deal with depression?'\n",
    "similarity_search_results = vector_store.similarity_search(query_example)\n",
    "print(similarity_search_results[0].page_content)"
   ]
  },
  {
   "cell_type": "code",
   "execution_count": 44,
   "metadata": {},
   "outputs": [],
   "source": [
    "llm = Ollama(model='mistral:7b-instruct-q4_K_M', temperature=0.5)"
   ]
  },
  {
   "cell_type": "code",
   "execution_count": 45,
   "metadata": {},
   "outputs": [],
   "source": [
    "prompt_template = \"\"\"\n",
    "   ### [INST]\n",
    "   Instruction: You are a therapy chatbot that empathizes with its clients and tries to make them feel better about themselves.\n",
    "   Use kind words like 'Sorry' or 'I apologise' to show that you sympathise with them. \n",
    "   Example: \n",
    "   Client: I don't know how to deal with depression\n",
    "   You(The bot's response): I am sorry to hear that. Here are some solutions that might help: {context}\n",
    "   \n",
    "   If certain statements are vague, try asking questions to the clients.\n",
    "   Example:\n",
    "   Client: I feel sad.\n",
    "   You(The bot's response): I am sorry to hear that. What might be the cause of that?\n",
    "   \n",
    "   Here is context to help: {context}\n",
    "   Follow-up Instructions:\n",
    "   {chat_history}\n",
    "   ##QUESTION:\n",
    "   {question}\n",
    "   [/INST]\n",
    "\"\"\"\n",
    "\n",
    "prompt = PromptTemplate(\n",
    "    input_variables=['context','question', 'chat_history'],\n",
    "    template=prompt_template\n",
    ")"
   ]
  },
  {
   "cell_type": "code",
   "execution_count": 46,
   "metadata": {},
   "outputs": [],
   "source": [
    "memory = ConversationBufferMemory(llm=llm, memory_key='chat_history', output_key='answer', return_messages=True)\n",
    "chain = ConversationalRetrievalChain.from_llm(llm=llm, \n",
    "                                        memory=memory,\n",
    "                                        retriever=retriever,\n",
    "                                        combine_docs_chain_kwargs={'prompt': prompt}\n",
    ")"
   ]
  },
  {
   "cell_type": "code",
   "execution_count": 47,
   "metadata": {},
   "outputs": [
    {
     "data": {
      "text/plain": [
       "{'question': 'I am dealing with anxiety. How can I deal with this?',\n",
       " 'chat_history': [HumanMessage(content='I am dealing with anxiety. How can I deal with this?'),\n",
       "  AIMessage(content='\\nAnxiety is a common experience that can be difficult to manage. It\\'s important to remember that while it may feel overwhelming at times, there are many strategies and tools you can use to help manage your anxiety. Here are some tips for dealing with anxiety:\\n\\n1. Practice mindfulness: Mindfulness involves being present in the moment and focusing on your thoughts, feelings, and sensations without judgment. This can be a helpful way to manage anxiety by allowing you to observe your thoughts without getting caught up in them. There are many ways to practice mindfulness, such as meditation, deep breathing exercises, or simply taking time to focus on your senses.\\n2. Challenge negative thoughts: One of the most effective ways to manage anxiety is to challenge negative thoughts that may be contributing to your feelings. Ask yourself if there\\'s evidence to support these thoughts, and try to reframe them in a more positive light. For example, instead of thinking \"I\\'m going to fail this test,\" try saying \"I can do well on this test if I focus and study.\"\\n3. Practice relaxation techniques: Relaxation techniques such as deep breathing exercises, progressive muscle relaxation, or guided imagery can help reduce physical symptoms of anxiety. These techniques can be done anywhere at any time, making them a useful tool for managing anxiety on the go.\\n4. Engage in self-care: Taking care of your physical and emotional needs is important for managing anxiety. This might involve getting regular exercise, eating a healthy diet, getting enough sleep, and engaging in activities that bring you joy and relaxation.\\n5. Seek support: It\\'s okay to ask for help if you\\'re struggling with anxiety. Talking to a therapist or counselor can be a helpful way to get support and guidance as you work through your anxiety. You might also consider joining a support group or reaching out to friends or family members who may be able to offer encouragement and advice.\\n\\nRemember that managing anxiety takes time and practice, but with the right strategies and tools, it is possible to reduce symptoms and improve your overall well-being.')],\n",
       " 'answer': '\\nAnxiety is a common experience that can be difficult to manage. It\\'s important to remember that while it may feel overwhelming at times, there are many strategies and tools you can use to help manage your anxiety. Here are some tips for dealing with anxiety:\\n\\n1. Practice mindfulness: Mindfulness involves being present in the moment and focusing on your thoughts, feelings, and sensations without judgment. This can be a helpful way to manage anxiety by allowing you to observe your thoughts without getting caught up in them. There are many ways to practice mindfulness, such as meditation, deep breathing exercises, or simply taking time to focus on your senses.\\n2. Challenge negative thoughts: One of the most effective ways to manage anxiety is to challenge negative thoughts that may be contributing to your feelings. Ask yourself if there\\'s evidence to support these thoughts, and try to reframe them in a more positive light. For example, instead of thinking \"I\\'m going to fail this test,\" try saying \"I can do well on this test if I focus and study.\"\\n3. Practice relaxation techniques: Relaxation techniques such as deep breathing exercises, progressive muscle relaxation, or guided imagery can help reduce physical symptoms of anxiety. These techniques can be done anywhere at any time, making them a useful tool for managing anxiety on the go.\\n4. Engage in self-care: Taking care of your physical and emotional needs is important for managing anxiety. This might involve getting regular exercise, eating a healthy diet, getting enough sleep, and engaging in activities that bring you joy and relaxation.\\n5. Seek support: It\\'s okay to ask for help if you\\'re struggling with anxiety. Talking to a therapist or counselor can be a helpful way to get support and guidance as you work through your anxiety. You might also consider joining a support group or reaching out to friends or family members who may be able to offer encouragement and advice.\\n\\nRemember that managing anxiety takes time and practice, but with the right strategies and tools, it is possible to reduce symptoms and improve your overall well-being.'}"
      ]
     },
     "execution_count": 47,
     "metadata": {},
     "output_type": "execute_result"
    }
   ],
   "source": [
    "query = 'I am dealing with anxiety. How can I deal with this?' \n",
    "result = chain.invoke(query)"
   ]
  },
  {
   "cell_type": "code",
   "execution_count": null,
   "metadata": {},
   "outputs": [],
   "source": [
    "print(result.answer)"
   ]
  }
 ],
 "metadata": {
  "kernelspec": {
   "display_name": "base",
   "language": "python",
   "name": "python3"
  },
  "language_info": {
   "codemirror_mode": {
    "name": "ipython",
    "version": 3
   },
   "file_extension": ".py",
   "mimetype": "text/x-python",
   "name": "python",
   "nbconvert_exporter": "python",
   "pygments_lexer": "ipython3",
   "version": "3.11.5"
  }
 },
 "nbformat": 4,
 "nbformat_minor": 2
}
